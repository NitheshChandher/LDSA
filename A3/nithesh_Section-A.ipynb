{
 "cells": [
  {
   "cell_type": "markdown",
   "metadata": {},
   "source": [
    "# Assignment 3 - PART 1"
   ]
  },
  {
   "cell_type": "markdown",
   "metadata": {},
   "source": [
    "# Section A - Working with the RDD API"
   ]
  },
  {
   "cell_type": "code",
   "execution_count": 1,
   "metadata": {},
   "outputs": [],
   "source": [
    "from pyspark.sql import SparkSession\n",
    "spark_session = SparkSession\\\n",
    "        .builder\\\n",
    "        .master(\"spark://192.168.2.87:7077\") \\\n",
    "        .appName(\"Nithesh_A1\")\\\n",
    "        .config(\"spark.dynamicAllocation.enabled\", True)\\\n",
    "        .config(\"spark.shuffle.service.enabled\", True)\\\n",
    "        .config(\"spark.dynamicAllocation.executorIdleTimeout\",\"30s\")\\\n",
    "        .config(\"spark.executor.cores\",4)\\\n",
    "        .getOrCreate()\n",
    "spark_context = spark_session.sparkContext"
   ]
  },
  {
   "cell_type": "markdown",
   "metadata": {},
   "source": [
    "## Solutions to Question A.1"
   ]
  },
  {
   "cell_type": "code",
   "execution_count": 2,
   "metadata": {},
   "outputs": [
    {
     "name": "stdout",
     "output_type": "stream",
     "text": [
      "Number of lines in English Transcript: 1862234\n"
     ]
    }
   ],
   "source": [
    "#A.1.1 Read the English transcripts with Spark, and count the number of lines.\n",
    "english = spark_context.newAPIHadoopFile(\n",
    "    'hdfs://192.168.2.87:9000/europarl/europarl-v7.sv-en.en',\n",
    "    'org.apache.hadoop.mapreduce.lib.input.TextInputFormat',\n",
    "    'org.apache.hadoop.io.LongWritable',\n",
    "    'org.apache.hadoop.io.Text',\n",
    "   # conf={'textinputformat.record.delimiter': 'WARC/1.0'}\n",
    ")\\\n",
    ".cache() # Keep this RDD in memory!\n",
    "print('Number of lines in English Transcript:', english.count())"
   ]
  },
  {
   "cell_type": "code",
   "execution_count": 3,
   "metadata": {},
   "outputs": [
    {
     "name": "stdout",
     "output_type": "stream",
     "text": [
      "Number of lines in Swedish Transcript: 1862234\n"
     ]
    }
   ],
   "source": [
    "# A.1.2 Do the same with the other language (so that you have a separate lineage of RDDs for each).\n",
    "svenska =  spark_context.newAPIHadoopFile(\n",
    "    'hdfs://192.168.2.87:9000/europarl/europarl-v7.sv-en.sv',\n",
    "    'org.apache.hadoop.mapreduce.lib.input.TextInputFormat',\n",
    "    'org.apache.hadoop.io.LongWritable',\n",
    "    'org.apache.hadoop.io.Text',\n",
    "   # conf={'textinputformat.record.delimiter': 'WARC/1.0'}\n",
    ")\\\n",
    ".cache() # Keep this RDD in memory!\n",
    "print('Number of lines in Swedish Transcript:', svenska.count())"
   ]
  },
  {
   "cell_type": "code",
   "execution_count": 4,
   "metadata": {},
   "outputs": [
    {
     "name": "stdout",
     "output_type": "stream",
     "text": [
      "The line counts are same for the two languages\n"
     ]
    }
   ],
   "source": [
    "# A.1.3 Verify that the line counts are the same for the two languages.\n",
    "if english.count() == svenska.count():\n",
    "    print('The line counts are same for the two languages')\n",
    "else:\n",
    "    print('The line counts are not same for the two languages')"
   ]
  },
  {
   "cell_type": "code",
   "execution_count": 5,
   "metadata": {},
   "outputs": [
    {
     "name": "stdout",
     "output_type": "stream",
     "text": [
      "Number of partitions for first RDD is 2\n",
      "Number of partitions for second RDD is 3\n"
     ]
    }
   ],
   "source": [
    "# A.1.4 Count the number of partitions.\n",
    "print('Number of partitions for first RDD is', english.getNumPartitions())\n",
    "print('Number of partitions for second RDD is', svenska.getNumPartitions())"
   ]
  },
  {
   "cell_type": "markdown",
   "metadata": {},
   "source": [
    "## Solution to Question A.2 "
   ]
  },
  {
   "cell_type": "code",
   "execution_count": 6,
   "metadata": {},
   "outputs": [],
   "source": [
    "#A.2.1 Pre-process the text from both RDDs by doing the following:\n",
    "#● Lowercase the text\n",
    "#● Tokenize the text (split on space)\n",
    "def preprocess(rdd):\n",
    "    return rdd\\\n",
    ".map(lambda word: word[1].lower())\\\n",
    ".map(lambda line: line.split(' '))\n",
    "\n",
    "\n"
   ]
  },
  {
   "cell_type": "code",
   "execution_count": 7,
   "metadata": {},
   "outputs": [
    {
     "data": {
      "text/plain": [
       "[['resumption', 'of', 'the', 'session'],\n",
       " ['i',\n",
       "  'declare',\n",
       "  'resumed',\n",
       "  'the',\n",
       "  'session',\n",
       "  'of',\n",
       "  'the',\n",
       "  'european',\n",
       "  'parliament',\n",
       "  'adjourned',\n",
       "  'on',\n",
       "  'friday',\n",
       "  '17',\n",
       "  'december',\n",
       "  '1999,',\n",
       "  'and',\n",
       "  'i',\n",
       "  'would',\n",
       "  'like',\n",
       "  'once',\n",
       "  'again',\n",
       "  'to',\n",
       "  'wish',\n",
       "  'you',\n",
       "  'a',\n",
       "  'happy',\n",
       "  'new',\n",
       "  'year',\n",
       "  'in',\n",
       "  'the',\n",
       "  'hope',\n",
       "  'that',\n",
       "  'you',\n",
       "  'enjoyed',\n",
       "  'a',\n",
       "  'pleasant',\n",
       "  'festive',\n",
       "  'period.'],\n",
       " ['although,',\n",
       "  'as',\n",
       "  'you',\n",
       "  'will',\n",
       "  'have',\n",
       "  'seen,',\n",
       "  'the',\n",
       "  'dreaded',\n",
       "  \"'millennium\",\n",
       "  \"bug'\",\n",
       "  'failed',\n",
       "  'to',\n",
       "  'materialise,',\n",
       "  'still',\n",
       "  'the',\n",
       "  'people',\n",
       "  'in',\n",
       "  'a',\n",
       "  'number',\n",
       "  'of',\n",
       "  'countries',\n",
       "  'suffered',\n",
       "  'a',\n",
       "  'series',\n",
       "  'of',\n",
       "  'natural',\n",
       "  'disasters',\n",
       "  'that',\n",
       "  'truly',\n",
       "  'were',\n",
       "  'dreadful.'],\n",
       " ['you',\n",
       "  'have',\n",
       "  'requested',\n",
       "  'a',\n",
       "  'debate',\n",
       "  'on',\n",
       "  'this',\n",
       "  'subject',\n",
       "  'in',\n",
       "  'the',\n",
       "  'course',\n",
       "  'of',\n",
       "  'the',\n",
       "  'next',\n",
       "  'few',\n",
       "  'days,',\n",
       "  'during',\n",
       "  'this',\n",
       "  'part-session.'],\n",
       " ['in',\n",
       "  'the',\n",
       "  'meantime,',\n",
       "  'i',\n",
       "  'should',\n",
       "  'like',\n",
       "  'to',\n",
       "  'observe',\n",
       "  'a',\n",
       "  \"minute'\",\n",
       "  's',\n",
       "  'silence,',\n",
       "  'as',\n",
       "  'a',\n",
       "  'number',\n",
       "  'of',\n",
       "  'members',\n",
       "  'have',\n",
       "  'requested,',\n",
       "  'on',\n",
       "  'behalf',\n",
       "  'of',\n",
       "  'all',\n",
       "  'the',\n",
       "  'victims',\n",
       "  'concerned,',\n",
       "  'particularly',\n",
       "  'those',\n",
       "  'of',\n",
       "  'the',\n",
       "  'terrible',\n",
       "  'storms,',\n",
       "  'in',\n",
       "  'the',\n",
       "  'various',\n",
       "  'countries',\n",
       "  'of',\n",
       "  'the',\n",
       "  'european',\n",
       "  'union.'],\n",
       " ['please', 'rise,', 'then,', 'for', 'this', \"minute'\", 's', 'silence.'],\n",
       " ['(the', 'house', 'rose', 'and', 'observed', 'a', \"minute'\", 's', 'silence)'],\n",
       " ['madam', 'president,', 'on', 'a', 'point', 'of', 'order.'],\n",
       " ['you',\n",
       "  'will',\n",
       "  'be',\n",
       "  'aware',\n",
       "  'from',\n",
       "  'the',\n",
       "  'press',\n",
       "  'and',\n",
       "  'television',\n",
       "  'that',\n",
       "  'there',\n",
       "  'have',\n",
       "  'been',\n",
       "  'a',\n",
       "  'number',\n",
       "  'of',\n",
       "  'bomb',\n",
       "  'explosions',\n",
       "  'and',\n",
       "  'killings',\n",
       "  'in',\n",
       "  'sri',\n",
       "  'lanka.'],\n",
       " ['one',\n",
       "  'of',\n",
       "  'the',\n",
       "  'people',\n",
       "  'assassinated',\n",
       "  'very',\n",
       "  'recently',\n",
       "  'in',\n",
       "  'sri',\n",
       "  'lanka',\n",
       "  'was',\n",
       "  'mr',\n",
       "  'kumar',\n",
       "  'ponnambalam,',\n",
       "  'who',\n",
       "  'had',\n",
       "  'visited',\n",
       "  'the',\n",
       "  'european',\n",
       "  'parliament',\n",
       "  'just',\n",
       "  'a',\n",
       "  'few',\n",
       "  'months',\n",
       "  'ago.']]"
      ]
     },
     "execution_count": 7,
     "metadata": {},
     "output_type": "execute_result"
    }
   ],
   "source": [
    "# A.2.2 Inspect 10 entries from each of your RDDs to verify your pre-processing.\n",
    "\n",
    "#For English:\n",
    "rdd1 = preprocess(english)\n",
    "rdd1.take(10)"
   ]
  },
  {
   "cell_type": "code",
   "execution_count": 8,
   "metadata": {},
   "outputs": [
    {
     "data": {
      "text/plain": [
       "[['återupptagande', 'av', 'sessionen'],\n",
       " ['jag',\n",
       "  'förklarar',\n",
       "  'europaparlamentets',\n",
       "  'session',\n",
       "  'återupptagen',\n",
       "  'efter',\n",
       "  'avbrottet',\n",
       "  'den',\n",
       "  '17',\n",
       "  'december.',\n",
       "  'jag',\n",
       "  'vill',\n",
       "  'på',\n",
       "  'nytt',\n",
       "  'önska',\n",
       "  'er',\n",
       "  'ett',\n",
       "  'gott',\n",
       "  'nytt',\n",
       "  'år',\n",
       "  'och',\n",
       "  'jag',\n",
       "  'hoppas',\n",
       "  'att',\n",
       "  'ni',\n",
       "  'haft',\n",
       "  'en',\n",
       "  'trevlig',\n",
       "  'semester.'],\n",
       " ['som',\n",
       "  'ni',\n",
       "  'kunnat',\n",
       "  'konstatera',\n",
       "  'ägde',\n",
       "  '\"den',\n",
       "  'stora',\n",
       "  'år',\n",
       "  '2000-buggen\"',\n",
       "  'aldrig',\n",
       "  'rum.',\n",
       "  'däremot',\n",
       "  'har',\n",
       "  'invånarna',\n",
       "  'i',\n",
       "  'ett',\n",
       "  'antal',\n",
       "  'av',\n",
       "  'våra',\n",
       "  'medlemsländer',\n",
       "  'drabbats',\n",
       "  'av',\n",
       "  'naturkatastrofer',\n",
       "  'som',\n",
       "  'verkligen',\n",
       "  'varit',\n",
       "  'förskräckliga.'],\n",
       " ['ni',\n",
       "  'har',\n",
       "  'begärt',\n",
       "  'en',\n",
       "  'debatt',\n",
       "  'i',\n",
       "  'ämnet',\n",
       "  'under',\n",
       "  'sammanträdesperiodens',\n",
       "  'kommande',\n",
       "  'dagar.'],\n",
       " ['till',\n",
       "  'dess',\n",
       "  'vill',\n",
       "  'jag',\n",
       "  'att',\n",
       "  'vi,',\n",
       "  'som',\n",
       "  'ett',\n",
       "  'antal',\n",
       "  'kolleger',\n",
       "  'begärt,',\n",
       "  'håller',\n",
       "  'en',\n",
       "  'tyst',\n",
       "  'minut',\n",
       "  'för',\n",
       "  'offren',\n",
       "  'för',\n",
       "  'bl.a.',\n",
       "  'stormarna',\n",
       "  'i',\n",
       "  'de',\n",
       "  'länder',\n",
       "  'i',\n",
       "  'europeiska',\n",
       "  'unionen',\n",
       "  'som',\n",
       "  'drabbats.'],\n",
       " ['jag', 'ber', 'er', 'resa', 'er', 'för', 'en', 'tyst', 'minut.'],\n",
       " ['(parlamentet', 'höll', 'en', 'tyst', 'minut.)'],\n",
       " ['fru', 'talman!', 'det', 'gäller', 'en', 'ordningsfråga.'],\n",
       " ['ni',\n",
       "  'känner',\n",
       "  'till',\n",
       "  'från',\n",
       "  'media',\n",
       "  'att',\n",
       "  'det',\n",
       "  'skett',\n",
       "  'en',\n",
       "  'rad',\n",
       "  'bombexplosioner',\n",
       "  'och',\n",
       "  'mord',\n",
       "  'i',\n",
       "  'sri',\n",
       "  'lanka.'],\n",
       " ['en',\n",
       "  'av',\n",
       "  'de',\n",
       "  'personer',\n",
       "  'som',\n",
       "  'mycket',\n",
       "  'nyligen',\n",
       "  'mördades',\n",
       "  'i',\n",
       "  'sri',\n",
       "  'lanka',\n",
       "  'var',\n",
       "  'kumar',\n",
       "  'ponnambalam,',\n",
       "  'som',\n",
       "  'besökte',\n",
       "  'europaparlamentet',\n",
       "  'för',\n",
       "  'bara',\n",
       "  'några',\n",
       "  'månader',\n",
       "  'sedan.']]"
      ]
     },
     "execution_count": 8,
     "metadata": {},
     "output_type": "execute_result"
    }
   ],
   "source": [
    "#For Swedish:\n",
    "rdd2 = preprocess(svenska)\n",
    "rdd2.take(10)\n"
   ]
  },
  {
   "cell_type": "code",
   "execution_count": 9,
   "metadata": {},
   "outputs": [
    {
     "name": "stdout",
     "output_type": "stream",
     "text": [
      "The line counts still match after the pre-processing and the total number of lines is  1862234\n"
     ]
    }
   ],
   "source": [
    "# A.2.3 Verify that the line counts still match after the pre-processing.\n",
    "if rdd1.count() == rdd2.count():\n",
    "    print('The line counts still match after the pre-processing and the total number of lines is ',rdd1.count())\n",
    "else:\n",
    "    print('The line counts does not match. For English transcript, the line count is ',rdd1.count(),' and for swedish transcript, the line count is ',rdd2.count())"
   ]
  },
  {
   "cell_type": "markdown",
   "metadata": {},
   "source": [
    "## Solutions to Question A.3"
   ]
  },
  {
   "cell_type": "code",
   "execution_count": null,
   "metadata": {},
   "outputs": [
    {
     "name": "stdout",
     "output_type": "stream",
     "text": [
      "[('the', 3498375), ('of', 1659758), ('to', 1539760), ('and', 1288401), ('in', 1085993), ('that', 797516), ('a', 773522), ('is', 758050), ('for', 534242), ('we', 522849)]\n",
      "[('att', 1706293), ('och', 1344830), ('i', 1050774), ('det', 924866), ('som', 913276), ('för', 908680), ('av', 738068), ('är', 694381), ('en', 620310), ('vi', 539797)]\n"
     ]
    }
   ],
   "source": [
    "# A.3.1 Use Spark to compute the 10 most frequently occuring words in the English language corpus. \n",
    "from operator import add\n",
    "\n",
    "def frequentwords(rdd):\n",
    "    return rdd\\\n",
    ".flatMap(lambda word: word)\\\n",
    ".map(lambda word: (word,1))\n",
    "\n",
    "#For English:\n",
    "rdd3 = frequentwords(rdd1)\n",
    "freq_en = rdd3.reduceByKey(add)\n",
    "\n",
    "#For Swedish:\n",
    "rdd4 = frequentwords(rdd2)\n",
    "freq_sv = rdd4.reduceByKey(add)\n",
    "\n",
    "print(freq_en.takeOrdered(10, key=lambda x: -x[1]))\n",
    "print(freq_sv.takeOrdered(10, key=lambda x: -x[1]))\n"
   ]
  },
  {
   "cell_type": "markdown",
   "metadata": {},
   "source": [
    "## Solutions to Question A.4"
   ]
  },
  {
   "cell_type": "code",
   "execution_count": null,
   "metadata": {},
   "outputs": [],
   "source": [
    "# A.4.1 Use this parallel corpus to mine some translations in the form of word pairs, for the two languages. \n",
    "\n",
    "rdden = rdd1.zipWithIndex()\\\n",
    ".map(lambda x: (x[1],x[0]))\\\n",
    "\n",
    "rddsv = rdd2.zipWithIndex()\\\n",
    ".map(lambda x: (x[1],x[0]))\\\n",
    "\n",
    "rddjoin = rdden.join(rddsv)\n",
    "rddkeys = rddjoin.reduceByKey(lambda x,y : (x[1], y[1]))\\\n",
    "\n",
    "filter1 = rddkeys.filter(lambda x: x[1][0] != \" \")\\\n",
    "                 .filter(lambda x: x[1][1] != \" \")\\\n",
    "\n",
    "filter2 = filter1.filter(lambda x: len(x[1][0]) == len(x[1][1]))\n",
    "\n",
    "en_words = filter2.flatMap(lambda x: x[1][0])\n",
    "sv_words = filter2.flatMap(lambda x: x[1][1])\n",
    "\n",
    "en_words.take(5)\n",
    "\n",
    "joinwords=en_words.zip(sv_words)\n",
    "\n",
    "mapper=joinwords.map(lambda x: (x,1))\n",
    "\n",
    "dictionary = mapper.reduceByKey(add)\n",
    "print(dictionary.takeOrdered(20, key=lambda x: -x[1]))\n",
    "                   \n",
    "\n"
   ]
  },
  {
   "cell_type": "code",
   "execution_count": null,
   "metadata": {},
   "outputs": [],
   "source": [
    "# release the cores for another application!\n",
    "spark_context.stop()"
   ]
  },
  {
   "cell_type": "code",
   "execution_count": null,
   "metadata": {},
   "outputs": [],
   "source": []
  }
 ],
 "metadata": {
  "kernelspec": {
   "display_name": "Python 3",
   "language": "python",
   "name": "python3"
  },
  "language_info": {
   "codemirror_mode": {
    "name": "ipython",
    "version": 3
   },
   "file_extension": ".py",
   "mimetype": "text/x-python",
   "name": "python",
   "nbconvert_exporter": "python",
   "pygments_lexer": "ipython3",
   "version": "3.6.9"
  }
 },
 "nbformat": 4,
 "nbformat_minor": 2
}
